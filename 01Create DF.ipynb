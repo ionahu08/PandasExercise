{
 "cells": [
  {
   "cell_type": "markdown",
   "metadata": {},
   "source": [
    "# Intro to DataFrames"
   ]
  },
  {
   "cell_type": "code",
   "execution_count": 1,
   "metadata": {},
   "outputs": [],
   "source": [
    "import pandas as pd "
   ]
  },
  {
   "cell_type": "markdown",
   "metadata": {},
   "source": [
    "### Create a new 2-D array with known columns & index name + Search for basic info"
   ]
  },
  {
   "cell_type": "code",
   "execution_count": 2,
   "metadata": {},
   "outputs": [],
   "source": [
    "#Create a new 2-D array\n",
    "df = pd.DataFrame([[1,2,3], [4,5,6], [7,8,9]], columns=['A','B','C'], index=['x','y', 'z'])"
   ]
  },
  {
   "cell_type": "code",
   "execution_count": 3,
   "metadata": {},
   "outputs": [
    {
     "name": "stdout",
     "output_type": "stream",
     "text": [
      "whole df:    A  B  C\n",
      "x  1  2  3\n",
      "y  4  5  6\n",
      "z  7  8  9\n",
      "columns: Index(['A', 'B', 'C'], dtype='object')\n",
      "index ['x', 'y', 'z']\n",
      "info:  <bound method DataFrame.info of    A  B  C\n",
      "x  1  2  3\n",
      "y  4  5  6\n",
      "z  7  8  9>\n",
      "Statistics Summary:          A    B    C\n",
      "count  3.0  3.0  3.0\n",
      "mean   4.0  5.0  6.0\n",
      "std    3.0  3.0  3.0\n",
      "min    1.0  2.0  3.0\n",
      "25%    2.5  3.5  4.5\n",
      "50%    4.0  5.0  6.0\n",
      "75%    5.5  6.5  7.5\n",
      "max    7.0  8.0  9.0\n",
      "Find unique values in specific column: \n",
      " [1 4 7]\n",
      "Find Shape: \n",
      " (3, 3)\n"
     ]
    }
   ],
   "source": [
    "print('whole df:', df)\n",
    "print('columns:', df.columns)\n",
    "print('index', df.index.tolist())\n",
    "print('info: ', df.info)\n",
    "print('Statistics Summary:', df.describe())\n",
    "print('Find unique values in specific column: \\n', df['A'].unique())\n",
    "print('Find Shape: \\n', df.shape)\n"
   ]
  }
 ],
 "metadata": {
  "kernelspec": {
   "display_name": "pandas",
   "language": "python",
   "name": "python3"
  },
  "language_info": {
   "codemirror_mode": {
    "name": "ipython",
    "version": 3
   },
   "file_extension": ".py",
   "mimetype": "text/x-python",
   "name": "python",
   "nbconvert_exporter": "python",
   "pygments_lexer": "ipython3",
   "version": "3.12.4"
  }
 },
 "nbformat": 4,
 "nbformat_minor": 2
}
