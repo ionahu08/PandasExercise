{
 "cells": [
  {
   "cell_type": "markdown",
   "metadata": {},
   "source": [
    "# Accessing Data with Pandas\n",
    "### 01 randdom sampling\n",
    "### 02 loc/iloc\n",
    "### 03 assign index to rows using an exsiting column - e.g. coffee.index = coffee.Day\n",
    "### 04 Modify a value in the dataFrame\n",
    "### 05 Sort the data by specific columns ascendingly/descendingly\n",
    "### 06 Iterate over an dataFrame using a for loop - df.iterrows()"
   ]
  },
  {
   "cell_type": "code",
   "execution_count": null,
   "metadata": {},
   "outputs": [],
   "source": [
    "import pandas as pd\n",
    "coffee = pd.read_csv('./warmup-data/coffee.csv')  \n",
    "# coffee = pd.read_csv('https://raw.githubusercontent.com/KeithGalli/complete-pandas-tutorial/master/warmup-data/coffee.csv')\n",
    "coffee.head(10)"
   ]
  },
  {
   "cell_type": "markdown",
   "metadata": {},
   "source": [
    "### 01 - Get 10 Samples randomly"
   ]
  },
  {
   "cell_type": "code",
   "execution_count": null,
   "metadata": {},
   "outputs": [],
   "source": [
    "print(coffee.sample(10, random_state=1))  #pass a random_state to make the step deterministic"
   ]
  },
  {
   "cell_type": "markdown",
   "metadata": {},
   "source": [
    "### 02 - Accesss Specific Rows\n",
    "#### Loc: Allow us to access row/column through dataFrame label, e.g. coffee.loc[#Rows, #Cols]\n",
    "#### iloc: Allow us to access row/column through dataFrame index only!"
   ]
  },
  {
   "cell_type": "code",
   "execution_count": null,
   "metadata": {},
   "outputs": [],
   "source": [
    "print('01 - the 1st row only: \\n', coffee.loc[0])\n",
    "print(' ')\n",
    "print('02 - the 1th, 2nd, and 3rd rows: \\n', coffee.loc[[0, 1, 2]])   #Note: double-layer brackets!!!\n",
    "print(' ')\n",
    "\n",
    "print('03 - using slicing to access rows/cols (labels): \\n', coffee.loc[0:5, ['Day', 'Units Sold']])   #Note: double-layer brackets!!!\n",
    "print(' ')\n",
    "\n",
    "print('04 - using slicing tow access rows/cols (index): \\n', coffee.iloc[0:5, [0,2]])   #Note: double-layer brackets!!!\n",
    "print(' ')"
   ]
  },
  {
   "cell_type": "code",
   "execution_count": null,
   "metadata": {},
   "outputs": [],
   "source": [
    "coffee.iloc[:,[0, 1, 2]]"
   ]
  },
  {
   "cell_type": "markdown",
   "metadata": {},
   "source": []
  },
  {
   "cell_type": "markdown",
   "metadata": {},
   "source": [
    "### 03 - assign index to rows using an exsiting column - e.g. coffee.index = coffee.Day"
   ]
  },
  {
   "cell_type": "code",
   "execution_count": null,
   "metadata": {},
   "outputs": [],
   "source": [
    "coffee.index = coffee.Day\n",
    "coffee.loc[['Monday','Tuesday'], ['Day', 'Units Sold']]"
   ]
  },
  {
   "cell_type": "markdown",
   "metadata": {},
   "source": [
    "### 04 - Modify a value in the dataFrame"
   ]
  },
  {
   "cell_type": "code",
   "execution_count": null,
   "metadata": {},
   "outputs": [],
   "source": [
    "coffee.loc[1, [\"Units Sold\"]] = 10\n",
    "coffee"
   ]
  },
  {
   "cell_type": "markdown",
   "metadata": {},
   "source": [
    "### 05 - Sort the data by specific columns ascendingly/descendingly"
   ]
  },
  {
   "cell_type": "code",
   "execution_count": null,
   "metadata": {},
   "outputs": [],
   "source": [
    "coffee.sort_values([\"Units Sold\", \"Coffee Type\"], ascending=[0, 1])"
   ]
  },
  {
   "cell_type": "markdown",
   "metadata": {},
   "source": [
    "### 06 - Iterate dataFrame using for loop"
   ]
  },
  {
   "cell_type": "code",
   "execution_count": null,
   "metadata": {},
   "outputs": [],
   "source": [
    "for index, row in coffee.iterrows():\n",
    "    print(index)\n",
    "    print(row['Units Sold'])\n",
    "    print(\"\\n\\n\")"
   ]
  },
  {
   "cell_type": "code",
   "execution_count": null,
   "metadata": {},
   "outputs": [],
   "source": []
  }
 ],
 "metadata": {
  "kernelspec": {
   "display_name": "pandas",
   "language": "python",
   "name": "python3"
  },
  "language_info": {
   "codemirror_mode": {
    "name": "ipython",
    "version": 3
   },
   "file_extension": ".py",
   "mimetype": "text/x-python",
   "name": "python",
   "nbconvert_exporter": "python",
   "pygments_lexer": "ipython3",
   "version": "3.12.4"
  }
 },
 "nbformat": 4,
 "nbformat_minor": 2
}
