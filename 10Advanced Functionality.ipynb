{
 "cells": [
  {
   "cell_type": "markdown",
   "metadata": {},
   "source": [
    "# Advanced Functionality \n",
    "### 01 - .shift() .rank() .cumsum() .rolling()\n",
    "### 02 - New Functionality | Pandas 1.0 vs Pandas 2.0 - pyarrow \n",
    "### 03 - New Functionality | GitHub Copilot & OpenAI ChatGPT"
   ]
  },
  {
   "cell_type": "markdown",
   "metadata": {},
   "source": [
    "### 01 - .shift() .rank() .cumsum() .rolling()"
   ]
  },
  {
   "cell_type": "code",
   "execution_count": null,
   "metadata": {},
   "outputs": [],
   "source": [
    "import pandas as pd\n",
    "import numpy as np\n",
    "coffee = pd.read_csv('./warmup-data/coffee.csv')\n",
    "bios = pd.read_csv('./data/bios.csv')\n",
    "coffee['price'] = np.where(coffee['Coffee Type'] == 'Espresso', 3.99, 5.99)\n",
    "coffee['revenue'] = coffee['Units Sold'] * coffee['price']\n",
    "coffee"
   ]
  },
  {
   "cell_type": "code",
   "execution_count": null,
   "metadata": {},
   "outputs": [],
   "source": [
    "# Shift (corresponds to 'lag' function in SAS)\n",
    "coffee['yesterday_revenue'] = coffee['revenue'].shift(2)\n",
    "coffee['pct_chg'] = (coffee['revenue'] - coffee['yesterday_revenue'] )* 100/coffee['yesterday_revenue']\n",
    "coffee"
   ]
  },
  {
   "cell_type": "code",
   "execution_count": null,
   "metadata": {},
   "outputs": [],
   "source": [
    "# rank\n",
    "bios['height_rank'] = bios['height_cm'].rank(ascending=False)\n",
    "bios.sort_values(['height_rank'], ascending=True, inplace=True)\n",
    "bios"
   ]
  },
  {
   "cell_type": "code",
   "execution_count": null,
   "metadata": {},
   "outputs": [],
   "source": [
    "# cumsum\n",
    "coffee['cumulative_revenue']=coffee.groupby(['Coffee Type'])['revenue'].cumsum()\n",
    "coffee\n"
   ]
  },
  {
   "cell_type": "code",
   "execution_count": null,
   "metadata": {},
   "outputs": [],
   "source": [
    "# rolling\n",
    "latte = coffee[coffee['Coffee Type']=='Latte'].copy()\n",
    "latte['3day'] = latte['Units Sold'].rolling(3).sum()\n",
    "latte\n"
   ]
  }
 ],
 "metadata": {
  "kernelspec": {
   "display_name": "pandas",
   "language": "python",
   "name": "python3"
  },
  "language_info": {
   "codemirror_mode": {
    "name": "ipython",
    "version": 3
   },
   "file_extension": ".py",
   "mimetype": "text/x-python",
   "name": "python",
   "nbconvert_exporter": "python",
   "pygments_lexer": "ipython3",
   "version": "3.12.4"
  }
 },
 "nbformat": 4,
 "nbformat_minor": 2
}
