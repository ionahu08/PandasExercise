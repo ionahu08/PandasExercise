{
 "cells": [
  {
   "cell_type": "markdown",
   "metadata": {},
   "source": [
    "# Loading in DataFrames from Files\n",
    "### 01 CSV (Most safe data format)\n",
    "### 02 Parquet (Quicker than excel)\n",
    "### 03 Excel (Very slow)\n",
    "\n",
    "\n",
    "# Save DataFram back to csv\n",
    "### 01 dataframe.to_csv('path/filename')\n",
    "### 02 dataframe.to_parquet('path/filename')\n",
    "### 03 dataframe.to_excel('path/filename')"
   ]
  },
  {
   "cell_type": "code",
   "execution_count": null,
   "metadata": {},
   "outputs": [],
   "source": [
    "import pandas as pd\n",
    "#Loading from Local\n",
    "coffee = pd.read_csv('./warmup-data/coffee.csv')  \n",
    "\n",
    "#Loading from website\n",
    "# coffee = pd.read_csv('https://raw.githubusercontent.com/KeithGalli/complete-pandas-tutorial/master/warmup-data/coffee.csv')\n",
    "coffee.head(10)\n"
   ]
  },
  {
   "cell_type": "code",
   "execution_count": null,
   "metadata": {},
   "outputs": [],
   "source": [
    "bios = pd.read_csv('./data/bios.csv')\n",
    "bios.head(10)"
   ]
  },
  {
   "cell_type": "markdown",
   "metadata": {},
   "source": []
  },
  {
   "cell_type": "code",
   "execution_count": null,
   "metadata": {},
   "outputs": [],
   "source": [
    "results = pd.read_parquet('./data/results.parquet')\n",
    "results.head(10)"
   ]
  },
  {
   "cell_type": "code",
   "execution_count": null,
   "metadata": {},
   "outputs": [],
   "source": [
    "olympics_data = pd.read_excel('./data/olympics-data.xlsx', sheet_name=\"results\")\n",
    "olympics_data.head(10)"
   ]
  }
 ],
 "metadata": {
  "kernelspec": {
   "display_name": "Python 3 (ipykernel)",
   "language": "python",
   "name": "python3"
  },
  "language_info": {
   "codemirror_mode": {
    "name": "ipython",
    "version": 3
   },
   "file_extension": ".py",
   "mimetype": "text/x-python",
   "name": "python",
   "nbconvert_exporter": "python",
   "pygments_lexer": "ipython3",
   "version": "3.12.4"
  }
 },
 "nbformat": 4,
 "nbformat_minor": 4
}
